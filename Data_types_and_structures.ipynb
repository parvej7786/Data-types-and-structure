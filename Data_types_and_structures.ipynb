{
  "nbformat": 4,
  "nbformat_minor": 0,
  "metadata": {
    "colab": {
      "provenance": []
    },
    "kernelspec": {
      "name": "python3",
      "display_name": "Python 3"
    },
    "language_info": {
      "name": "python"
    }
  },
  "cells": [
    {
      "cell_type": "markdown",
      "source": [
        "## Data types and structures\n"
      ],
      "metadata": {
        "id": "KxAORTVwII9U"
      }
    },
    {
      "cell_type": "markdown",
      "source": [
        "1.What are data structures, and why are they important?\n",
        " -> Data structures are fundamental ways of organizing and storing data within a computer system, allowing for efficient retrieval and manipulation. They are crucial for building efficient and scalable software, as they determine how data is arranged in memory and how it can be accessed and processed.\n",
        "\n",
        "2.Explain the difference between mutable and immutable data types with examples.\n",
        " -> Mutable data types are those whose values can be changed after they are created, while immutable data types cannot be altered once they are created. Examples of mutable data types include lists and dictionaries, while examples of immutable data types include strings and tuples.\n",
        "\n",
        "3.What are the main differences between lists and tuples in Python?\n",
        " -> The primary difference between lists and tuples in Python lies in their mutability. Lists are mutable, meaning their contents can be changed after creation, while tuples are immutable, meaning they cannot be modified once created. This difference impacts memory usage and performance, as tuples are generally more efficient and faster due to their fixed size and immutability.\n",
        "\n",
        "4.Describe how dictionaries store data.\n",
        " -> Dictionaries are used to store data values in key:value pairs. A dictionary is a collection which is ordered*, changeable and do not allow duplicates. As of Python version 3.7, dictionaries are ordered. In Python 3.6 and earlier, dictionaries are unordered.\n",
        "\n",
        "\n",
        "5.Why might you use a set instead of a list in Python?\n",
        " -> Because sets cannot have multiple occurrences of the same element, it makes sets highly useful to efficiently remove duplicate values from a list or tuple and to perform common math operations like unions and intersections.\n",
        "\n",
        "6.What is a string in Python, and how is it different from a list?\n",
        " -> In Python, a string is a sequence of characters enclosed in single or double quotes, while a list is a sequence of items enclosed in square brackets and separated by commas. A string can only contain characters, whereas a list can hold any data type, including other lists. Additionally, strings are immutable (cannot be changed after creation), while lists are mutable (can be modified).\n",
        "\n",
        "7.How do tuples ensure data integrity in Python?\n",
        " -> Tuples are immutable to ensure that their contents remain constant throughout their lifecycle, guaranteeing data integrity and reliability. This immutability allows tuples to be used as keys in dictionaries and elements in sets, as they can be hashed.\n",
        "\n",
        "8.What is a hash table, and how does it relate to dictionaries in Python?\n",
        " -> In Python, a hash table is a data structure that's used to implement dictionaries. A hash table is a way to organize data into key-value pairs, which makes it easy to find and access data quickly.\n",
        "\n",
        "9.Can lists contain different data types in Python?\n",
        " -> However, in Python, lists can contain heterogeneous data types and objects. For instance, integers, strings, and even functions can be stored within the same list.\n",
        "\n",
        "10.Explain why strings are immutable in Python.\n",
        " -> Python strings are \"immutable\" which means they cannot be changed after they are created (Java strings also use this immutable style). Since strings can't be changed, we construct *new* strings as we go to represent computed values.\n",
        "\n",
        "11.What advantages do dictionaries offer over lists for certain tasks?\n",
        " -> Dictionaries are ideal for tasks requiring quick lookups, data mappings, and key-value associations. Lists are suitable for ordered collections, sequential processing, and scenarios where the order of elements matters.\n",
        "\n",
        "12.Describe a scenario where using a tuple would be preferable over a list.\n",
        " -> Tuples are immutable. Hence, they are primarily used to store data that doesn't change frequently. Any operation can store data in a tuple when you don't want it to change. Tuples are great to use if you want the data in your collection to be read-only, never to change, and always remain the same and constant.\n",
        "\n",
        "13.How do sets handle duplicate values in Python?\n",
        " -> Sets in Python are unordered collections of unique elements. By their nature, duplicates aren't allowed. Therefore, converting a list into a set removes the duplicates.\n",
        "\n",
        "14.How does the “in” keyword work differently for lists and dictionaries?\n",
        " -> As mentioned above, the in operation for the dictionary tests on keys. The key of the dictionary is a unique value as well as the set, and the execution time is about the same as for sets. On the other hand, dictionary values can be duplicated like a list.\n",
        "\n",
        "15.Can you modify the elements of a tuple? Explain why or why not.\n",
        " -> No, you cannot directly modify the elements of a tuple in Python. Tuples are immutable, meaning their values cannot be changed after they are created. If you attempt to change an element, you'll get a TypeError.\n",
        "\n",
        "16.What is a nested dictionary, and give an example of its use case?\n",
        " -> A nested dictionary is a dictionary where one or more of its values are themselves dictionaries. It's like having a dictionary inside another dictionary, allowing you to store hierarchical or multi-layered data. A use case is representing an employee directory where each employee has details stored as a nested dictionary, organized by department.\n",
        "\n",
        "17.Describe the time complexity of accessing elements in a dictionary.\n",
        " -> The time complexity of accessing an element in a dictionary is O(1) on average, which means it takes constant time regardless of the dictionary's size. This is because dictionaries are implemented as hash tables.\n",
        "\n",
        "18.In what situations are lists preferred over dictionaries?\n",
        " -> For quick data look-ups, configurations, or caches, favor dictionaries. For ordered collections and sequence operations, such as maintaining a stack or queue, lists are more suitable\n",
        "\n",
        "19.Why are dictionaries considered unordered, and how does that affect data retrieval?\n",
        " -> hy dictionaries are unordered collection: Dictionary is a data structure which is a important value structure, optimized for fast storage and recovery based on key. In python, dictionaries are un-ordered because Python dictionaries are not intended to be in order, as simple as that.\n",
        "\n",
        "20.Explain the difference between a list and a dictionary in terms of data retrieval.\n",
        " -> A list is an ordered collection of items, whereas a dictionary is an unordered data collection in a key: value pair. Elements from the list can be accessed using the index, while the elements of the dictionary can be accessed using keys.\n",
        "\n"
      ],
      "metadata": {
        "id": "_C5phcQGIfVU"
      }
    },
    {
      "cell_type": "code",
      "source": [
        "# Create a string with a name\n",
        "name = \"ChatGPT\"\n",
        "\n",
        "# Print the name\n",
        "print(\"My name is\", name)"
      ],
      "metadata": {
        "colab": {
          "base_uri": "https://localhost:8080/"
        },
        "id": "h80t9miRqUzT",
        "outputId": "fa492ab6-e962-47a1-9fbc-c36c043d4b2b"
      },
      "execution_count": 31,
      "outputs": [
        {
          "output_type": "stream",
          "name": "stdout",
          "text": [
            "My name is ChatGPT\n"
          ]
        }
      ]
    },
    {
      "cell_type": "code",
      "source": [
        "# Define the string\n",
        "text = \"Hello World\"\n",
        "\n",
        "# Find and print the length of the string\n",
        "print(\"Length of the string:\", len(text))"
      ],
      "metadata": {
        "colab": {
          "base_uri": "https://localhost:8080/"
        },
        "id": "_zCWbjnpq3KA",
        "outputId": "75cf98cd-7dc0-4fc5-a242-f358e102701b"
      },
      "execution_count": 30,
      "outputs": [
        {
          "output_type": "stream",
          "name": "stdout",
          "text": [
            "Length of the string: 11\n"
          ]
        }
      ]
    },
    {
      "cell_type": "code",
      "source": [
        "# Define the string\n",
        "text = \"Python Programming\"\n",
        "\n",
        "# Slice the first 3 characters\n",
        "sliced_text = text[:3]\n",
        "\n",
        "# Print the result\n",
        "print(\"First 3 characters:\", sliced_text)"
      ],
      "metadata": {
        "colab": {
          "base_uri": "https://localhost:8080/"
        },
        "id": "8EqHGFEqrCQB",
        "outputId": "0e365c21-4131-4c7d-82bb-11c6ad700188"
      },
      "execution_count": 29,
      "outputs": [
        {
          "output_type": "stream",
          "name": "stdout",
          "text": [
            "First 3 characters: Pyt\n"
          ]
        }
      ]
    },
    {
      "cell_type": "code",
      "source": [
        "# Define the string\n",
        "text = \"hello\"\n",
        "\n",
        "# Convert to uppercase\n",
        "uppercase_text = text.upper()\n",
        "\n",
        "# Print the result\n",
        "print(\"Uppercase:\", uppercase_text)"
      ],
      "metadata": {
        "colab": {
          "base_uri": "https://localhost:8080/"
        },
        "id": "0StM-TSKrIHh",
        "outputId": "66e1129f-3646-40d6-9a5c-73bad66365e4"
      },
      "execution_count": 28,
      "outputs": [
        {
          "output_type": "stream",
          "name": "stdout",
          "text": [
            "Uppercase: HELLO\n"
          ]
        }
      ]
    },
    {
      "cell_type": "code",
      "source": [
        "text = \"I like apple\"\n",
        "new_text = text.replace(\"apple\", \"orange\")\n",
        "print(new_text)"
      ],
      "metadata": {
        "colab": {
          "base_uri": "https://localhost:8080/"
        },
        "id": "2DX1cU38rM0h",
        "outputId": "96d1b8b5-dfdd-4f84-a82a-b14798b4a1e2"
      },
      "execution_count": 27,
      "outputs": [
        {
          "output_type": "stream",
          "name": "stdout",
          "text": [
            "I like orange\n"
          ]
        }
      ]
    },
    {
      "cell_type": "code",
      "source": [
        "numbers = [1, 2, 3, 4, 5]\n",
        "print(numbers)"
      ],
      "metadata": {
        "colab": {
          "base_uri": "https://localhost:8080/"
        },
        "id": "z0fZBEWmrN_5",
        "outputId": "c7a927bf-0b5d-4b51-e48e-216771efd174"
      },
      "execution_count": 26,
      "outputs": [
        {
          "output_type": "stream",
          "name": "stdout",
          "text": [
            "[1, 2, 3, 4, 5]\n"
          ]
        }
      ]
    },
    {
      "cell_type": "code",
      "source": [
        "numbers = [1, 2, 3, 4]\n",
        "numbers.append(10)\n",
        "print(numbers)"
      ],
      "metadata": {
        "colab": {
          "base_uri": "https://localhost:8080/"
        },
        "id": "1LMrEI6WrVsZ",
        "outputId": "9003624b-89fb-43fa-97fe-7efa5d4becdb"
      },
      "execution_count": 25,
      "outputs": [
        {
          "output_type": "stream",
          "name": "stdout",
          "text": [
            "[1, 2, 3, 4, 10]\n"
          ]
        }
      ]
    },
    {
      "cell_type": "code",
      "source": [
        "numbers = [1, 2, 3, 4, 5]\n",
        "numbers.remove(3)\n",
        "print(numbers)"
      ],
      "metadata": {
        "colab": {
          "base_uri": "https://localhost:8080/"
        },
        "id": "GS6jwJ-IrbXp",
        "outputId": "ae36c3e1-a96a-4779-efc7-112a4666b463"
      },
      "execution_count": 24,
      "outputs": [
        {
          "output_type": "stream",
          "name": "stdout",
          "text": [
            "[1, 2, 4, 5]\n"
          ]
        }
      ]
    },
    {
      "cell_type": "code",
      "source": [
        "letters = ['a', 'b', 'c', 'd']\n",
        "second_element = letters[1]\n",
        "print(second_element)"
      ],
      "metadata": {
        "colab": {
          "base_uri": "https://localhost:8080/"
        },
        "id": "2MWpwS8arg0w",
        "outputId": "e85253ba-7ca4-49a0-8b56-bcff66d3b9ba"
      },
      "execution_count": 23,
      "outputs": [
        {
          "output_type": "stream",
          "name": "stdout",
          "text": [
            "b\n"
          ]
        }
      ]
    },
    {
      "cell_type": "code",
      "source": [
        "numbers = [10, 20, 30, 40, 50]\n",
        "numbers.reverse()\n",
        "print(numbers)"
      ],
      "metadata": {
        "colab": {
          "base_uri": "https://localhost:8080/"
        },
        "id": "5s6HxRn6rnLR",
        "outputId": "217e4d36-f71d-4f00-eeb5-2b930d1373bc"
      },
      "execution_count": 22,
      "outputs": [
        {
          "output_type": "stream",
          "name": "stdout",
          "text": [
            "[50, 40, 30, 20, 10]\n"
          ]
        }
      ]
    },
    {
      "cell_type": "code",
      "source": [
        "my_tuple = (100, 200, 300)\n",
        "print(my_tuple)"
      ],
      "metadata": {
        "colab": {
          "base_uri": "https://localhost:8080/"
        },
        "id": "b8vICvLkro4x",
        "outputId": "9edbd0e5-6978-4a8c-f437-43f537213905"
      },
      "execution_count": 21,
      "outputs": [
        {
          "output_type": "stream",
          "name": "stdout",
          "text": [
            "(100, 200, 300)\n"
          ]
        }
      ]
    },
    {
      "cell_type": "code",
      "source": [
        "colors = ('red', 'green', 'blue', 'yellow')\n",
        "second_to_last = colors[-2]\n",
        "print(second_to_last)"
      ],
      "metadata": {
        "colab": {
          "base_uri": "https://localhost:8080/"
        },
        "id": "gpSVTuh2rtoP",
        "outputId": "684ee8e8-3dc6-46fb-c9cb-95ae2284b6c1"
      },
      "execution_count": 20,
      "outputs": [
        {
          "output_type": "stream",
          "name": "stdout",
          "text": [
            "blue\n"
          ]
        }
      ]
    },
    {
      "cell_type": "code",
      "source": [
        "numbers = (10, 20, 5, 15)\n",
        "minimum = min(numbers)\n",
        "print(minimum)"
      ],
      "metadata": {
        "colab": {
          "base_uri": "https://localhost:8080/"
        },
        "id": "eHVhHoEfrulQ",
        "outputId": "603f5e7d-caf4-42de-fa0f-24cc8a684b42"
      },
      "execution_count": 19,
      "outputs": [
        {
          "output_type": "stream",
          "name": "stdout",
          "text": [
            "5\n"
          ]
        }
      ]
    },
    {
      "cell_type": "code",
      "source": [
        "animals = ('dog', 'cat', 'rabbit')\n",
        "index_of_cat = animals.index('cat')\n",
        "print(index_of_cat)"
      ],
      "metadata": {
        "colab": {
          "base_uri": "https://localhost:8080/"
        },
        "id": "kg6dyuMFrzCH",
        "outputId": "0f0111e1-458b-4f49-81c7-dc6279ba28d4"
      },
      "execution_count": 18,
      "outputs": [
        {
          "output_type": "stream",
          "name": "stdout",
          "text": [
            "1\n"
          ]
        }
      ]
    },
    {
      "cell_type": "code",
      "source": [
        "fruits = ('apple', 'banana', 'cherry')\n",
        "is_kiwi_in_tuple = 'kiwi' in fruits\n",
        "print(is_kiwi_in_tuple)"
      ],
      "metadata": {
        "colab": {
          "base_uri": "https://localhost:8080/"
        },
        "id": "MTeSg2smr29g",
        "outputId": "88c53eab-b578-490c-b916-d41ca97eff19"
      },
      "execution_count": 17,
      "outputs": [
        {
          "output_type": "stream",
          "name": "stdout",
          "text": [
            "False\n"
          ]
        }
      ]
    },
    {
      "cell_type": "code",
      "source": [
        "my_set = {'a', 'b', 'c'}\n",
        "print(my_set)"
      ],
      "metadata": {
        "colab": {
          "base_uri": "https://localhost:8080/"
        },
        "id": "zuM3ywZtsNsX",
        "outputId": "638bcfd1-9859-44a3-cfab-bf25612eedef"
      },
      "execution_count": 16,
      "outputs": [
        {
          "output_type": "stream",
          "name": "stdout",
          "text": [
            "{'c', 'a', 'b'}\n"
          ]
        }
      ]
    },
    {
      "cell_type": "code",
      "source": [
        "my_set = {1, 2, 3, 4, 5}\n",
        "my_set.clear()\n",
        "print(my_set)"
      ],
      "metadata": {
        "colab": {
          "base_uri": "https://localhost:8080/"
        },
        "id": "SD7rNHq_sOtm",
        "outputId": "4387daa8-9252-4e15-e40a-d186537d59fc"
      },
      "execution_count": 15,
      "outputs": [
        {
          "output_type": "stream",
          "name": "stdout",
          "text": [
            "set()\n"
          ]
        }
      ]
    },
    {
      "cell_type": "code",
      "source": [
        "my_set = {1, 2, 3, 4}\n",
        "my_set.remove(4)\n",
        "print(my_set)"
      ],
      "metadata": {
        "colab": {
          "base_uri": "https://localhost:8080/"
        },
        "id": "kvw2vvdpsRqX",
        "outputId": "4466f3db-98c2-40fa-a86d-c9351d7fa3a7"
      },
      "execution_count": 14,
      "outputs": [
        {
          "output_type": "stream",
          "name": "stdout",
          "text": [
            "{1, 2, 3}\n"
          ]
        }
      ]
    },
    {
      "cell_type": "code",
      "source": [
        "set1 = {1, 2, 3}\n",
        "set2 = {3, 4, 5}\n",
        "union_set = set1.union(set2)\n",
        "print(union_set)"
      ],
      "metadata": {
        "colab": {
          "base_uri": "https://localhost:8080/"
        },
        "id": "e9HE-NxasT6f",
        "outputId": "2ddcf58c-e1a4-474e-fad0-72bfadf58f97"
      },
      "execution_count": 13,
      "outputs": [
        {
          "output_type": "stream",
          "name": "stdout",
          "text": [
            "{1, 2, 3, 4, 5}\n"
          ]
        }
      ]
    },
    {
      "cell_type": "code",
      "source": [
        "set1 = {1, 2, 3}\n",
        "set2 = {2, 3, 4}\n",
        "intersection_set = set1.intersection(set2)\n",
        "print(intersection_set)"
      ],
      "metadata": {
        "colab": {
          "base_uri": "https://localhost:8080/"
        },
        "id": "vGLhbqCasZEn",
        "outputId": "d7a3f911-0411-4050-d0a2-edf92c44c72d"
      },
      "execution_count": 12,
      "outputs": [
        {
          "output_type": "stream",
          "name": "stdout",
          "text": [
            "{2, 3}\n"
          ]
        }
      ]
    },
    {
      "cell_type": "code",
      "source": [
        "person = {\n",
        "    \"name\": \"John\",\n",
        "    \"age\": 30,\n",
        "    \"city\": \"New York\"\n",
        "}\n",
        "print(person)"
      ],
      "metadata": {
        "colab": {
          "base_uri": "https://localhost:8080/"
        },
        "id": "5L6d5U0_scBQ",
        "outputId": "6ab55525-bb76-49d6-d4fe-5adf2c11ddb0"
      },
      "execution_count": 11,
      "outputs": [
        {
          "output_type": "stream",
          "name": "stdout",
          "text": [
            "{'name': 'John', 'age': 30, 'city': 'New York'}\n"
          ]
        }
      ]
    },
    {
      "cell_type": "code",
      "source": [
        "person = {'name': 'John', 'age': 25}\n",
        "person['country'] = 'USA'\n",
        "print(person)"
      ],
      "metadata": {
        "colab": {
          "base_uri": "https://localhost:8080/"
        },
        "id": "2B36bzPqscwv",
        "outputId": "0390b384-0344-4347-b6d4-470a14dad9d5"
      },
      "execution_count": 9,
      "outputs": [
        {
          "output_type": "stream",
          "name": "stdout",
          "text": [
            "{'name': 'John', 'age': 25, 'country': 'USA'}\n"
          ]
        }
      ]
    },
    {
      "cell_type": "code",
      "source": [
        "person = {'name': 'Alice', 'age': 30}\n",
        "name_value = person['name']\n",
        "print(name_value)"
      ],
      "metadata": {
        "colab": {
          "base_uri": "https://localhost:8080/"
        },
        "id": "WvrDYjDOsgku",
        "outputId": "ea7e739e-8db7-4b98-a5c2-c406c3c4173e"
      },
      "execution_count": 10,
      "outputs": [
        {
          "output_type": "stream",
          "name": "stdout",
          "text": [
            "Alice\n"
          ]
        }
      ]
    },
    {
      "cell_type": "code",
      "source": [
        "person = {'name': 'Bob', 'age': 22, 'city': 'New York'}\n",
        "del person['age']\n",
        "print(person)"
      ],
      "metadata": {
        "colab": {
          "base_uri": "https://localhost:8080/"
        },
        "id": "WpGEIpvTsjs2",
        "outputId": "ead18815-da6d-4aec-c91d-5929623e7e46"
      },
      "execution_count": 8,
      "outputs": [
        {
          "output_type": "stream",
          "name": "stdout",
          "text": [
            "{'name': 'Bob', 'city': 'New York'}\n"
          ]
        }
      ]
    },
    {
      "cell_type": "code",
      "source": [
        "person = {'name': 'Alice', 'city': 'Paris'}\n",
        "key_exists = 'city' in person\n",
        "print(key_exists)"
      ],
      "metadata": {
        "colab": {
          "base_uri": "https://localhost:8080/"
        },
        "id": "MOlJkKj1sl7G",
        "outputId": "801a06dc-0997-4fa0-d823-3bcea0836aae"
      },
      "execution_count": 7,
      "outputs": [
        {
          "output_type": "stream",
          "name": "stdout",
          "text": [
            "True\n"
          ]
        }
      ]
    },
    {
      "cell_type": "code",
      "source": [
        "# Creating a list\n",
        "my_list = [1, 2, 3, 4, 5]\n",
        "\n",
        "# Creating a tuple\n",
        "my_tuple = ('apple', 'banana', 'cherry')\n",
        "\n",
        "# Creating a dictionary\n",
        "my_dict = {'name': 'John', 'age': 30, 'city': 'New York'}\n",
        "\n",
        "# Printing all\n",
        "print(\"List:\", my_list)\n",
        "print(\"Tuple:\", my_tuple)\n",
        "print(\"Dictionary:\", my_dict)"
      ],
      "metadata": {
        "colab": {
          "base_uri": "https://localhost:8080/"
        },
        "id": "gT3H_6VJsoJ2",
        "outputId": "a8f4d85f-00d1-42f0-cd94-35ec1e7cebec"
      },
      "execution_count": 6,
      "outputs": [
        {
          "output_type": "stream",
          "name": "stdout",
          "text": [
            "List: [1, 2, 3, 4, 5]\n",
            "Tuple: ('apple', 'banana', 'cherry')\n",
            "Dictionary: {'name': 'John', 'age': 30, 'city': 'New York'}\n"
          ]
        }
      ]
    },
    {
      "cell_type": "code",
      "source": [
        "import random\n",
        "\n",
        "# Create a list of 5 random numbers between 1 and 100\n",
        "random_numbers = random.sample(range(1, 101), 5)\n",
        "\n",
        "# Sort the list in ascending order\n",
        "random_numbers.sort()\n",
        "\n",
        "# Print the result\n",
        "print(random_numbers)"
      ],
      "metadata": {
        "colab": {
          "base_uri": "https://localhost:8080/"
        },
        "id": "x0gnYDc-stG9",
        "outputId": "15f81d38-3ab9-42a5-8eec-d4c2a98abdd0"
      },
      "execution_count": 3,
      "outputs": [
        {
          "output_type": "stream",
          "name": "stdout",
          "text": [
            "[27, 38, 65, 80, 93]\n"
          ]
        }
      ]
    },
    {
      "cell_type": "code",
      "source": [
        "# Creating a list of strings\n",
        "my_list = [\"apple\", \"banana\", \"cherry\", \"date\", \"elderberry\"]\n",
        "\n",
        "# Printing the element at the third index\n",
        "print(my_list[3])"
      ],
      "metadata": {
        "colab": {
          "base_uri": "https://localhost:8080/"
        },
        "id": "PpSpyvCJsyfn",
        "outputId": "9f1eead9-8847-4c37-de1e-35983bf87f5f"
      },
      "execution_count": 2,
      "outputs": [
        {
          "output_type": "stream",
          "name": "stdout",
          "text": [
            "date\n"
          ]
        }
      ]
    },
    {
      "cell_type": "code",
      "source": [
        "# Creating two dictionaries\n",
        "dict1 = {'name': 'Alice', 'age': 25}\n",
        "dict2 = {'city': 'Paris', 'country': 'France'}\n",
        "\n",
        "# Combining the dictionaries\n",
        "combined_dict = {**dict1, **dict2}\n",
        "\n",
        "# Printing the result\n",
        "print(combined_dict)"
      ],
      "metadata": {
        "colab": {
          "base_uri": "https://localhost:8080/"
        },
        "id": "y0SY-Dqws1YW",
        "outputId": "706b1360-6b77-49cf-f9f1-81ee45d324a2"
      },
      "execution_count": 33,
      "outputs": [
        {
          "output_type": "stream",
          "name": "stdout",
          "text": [
            "{'name': 'Alice', 'age': 25, 'city': 'Paris', 'country': 'France'}\n"
          ]
        }
      ]
    },
    {
      "cell_type": "code",
      "source": [
        "# Creating a list of strings\n",
        "my_list = [\"apple\", \"banana\", \"cherry\", \"apple\", \"date\"]\n",
        "\n",
        "# Converting the list into a set\n",
        "my_set = set(my_list)\n",
        "\n",
        "# Printing the result\n",
        "print(my_set)"
      ],
      "metadata": {
        "colab": {
          "base_uri": "https://localhost:8080/"
        },
        "id": "AyTQptmQs451",
        "outputId": "8e3ebfc5-67ae-4f81-e71a-76c7d8a8fc17"
      },
      "execution_count": 32,
      "outputs": [
        {
          "output_type": "stream",
          "name": "stdout",
          "text": [
            "{'cherry', 'apple', 'date', 'banana'}\n"
          ]
        }
      ]
    }
  ]
}